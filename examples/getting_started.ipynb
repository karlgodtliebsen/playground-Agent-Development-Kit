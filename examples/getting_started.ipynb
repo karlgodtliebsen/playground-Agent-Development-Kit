{
 "cells": [
  {
   "cell_type": "markdown",
   "metadata": {},
   "source": [
    "# Agent Development Kit - Getting Started\n",
    "\n",
    "This notebook demonstrates basic usage of the Agent Development Kit (ADK) for experimenting with Google Cloud AI agents."
   ]
  },
  {
   "cell_type": "markdown",
   "metadata": {},
   "source": [
    "## Setup and Imports"
   ]
  },
  {
   "cell_type": "code",
   "execution_count": null,
   "metadata": {},
   "outputs": [],
   "source": [
    "import sys\n",
    "import os\n",
    "\n",
    "# Add src to path for imports\n",
    "sys.path.insert(0, os.path.join(os.getcwd(), 'src'))\n",
    "\n",
    "from adk import setup_logging\n",
    "from adk.agents import EchoAgent, VertexAIAgent\n",
    "from adk.utils import print_environment_status, validate_environment\n",
    "from adk.config import get_config\n",
    "\n",
    "# Setup logging for notebook\n",
    "setup_logging(level=\"INFO\", format_type=\"console\")\n",
    "\n",
    "print(\"✅ ADK imported successfully\")"
   ]
  },
  {
   "cell_type": "markdown",
   "metadata": {},
   "source": [
    "## Environment Validation"
   ]
  },
  {
   "cell_type": "code",
   "execution_count": null,
   "metadata": {},
   "outputs": [],
   "source": [
    "# Check environment setup\n",
    "print_environment_status()\n",
    "\n",
    "# Get detailed validation results\n",
    "env_results = validate_environment()\n",
    "print(\"\\n📊 Detailed Results:\")\n",
    "for key, value in env_results.items():\n",
    "    print(f\"  {key}: {value}\")"
   ]
  },
  {
   "cell_type": "markdown",
   "metadata": {},
   "source": [
    "## Configuration"
   ]
  },
  {
   "cell_type": "code",
   "execution_count": null,
   "metadata": {},
   "outputs": [],
   "source": [
    "# Load configuration\n",
    "try:\n",
    "    config = get_config()\n",
    "    print(f\"Project: {config.google_cloud_project}\")\n",
    "    print(f\"Location: {config.vertex_ai_location}\")\n",
    "    print(f\"Agent Name: {config.agent_name}\")\n",
    "except Exception as e:\n",
    "    print(f\"⚠️ Configuration issue: {e}\")\n",
    "    print(\"💡 Make sure to create .env file with GOOGLE_CLOUD_PROJECT\")"
   ]
  },
  {
   "cell_type": "markdown",
   "metadata": {},
   "source": [
    "## Echo Agent Example"
   ]
  },
  {
   "cell_type": "code",
   "execution_count": null,
   "metadata": {},
   "outputs": [],
   "source": [
    "# Create and test Echo Agent\n",
    "echo_agent = EchoAgent(name=\"NotebookEcho\", description=\"Echo agent for notebook demo\")\n",
    "await echo_agent.initialize()\n",
    "\n",
    "print(\"🤖 Echo Agent initialized\")\n",
    "print(f\"   Name: {echo_agent.name}\")\n",
    "print(f\"   Description: {echo_agent.description}\")"
   ]
  },
  {
   "cell_type": "code",
   "execution_count": null,
   "metadata": {},
   "outputs": [],
   "source": [
    "# Test basic message processing\n",
    "response = await echo_agent.process_message(\"Hello from Jupyter notebook!\")\n",
    "print(f\"Response: {response}\")"
   ]
  },
  {
   "cell_type": "code",
   "execution_count": null,
   "metadata": {},
   "outputs": [],
   "source": [
    "# Test with context\n",
    "context = {\n",
    "    \"user\": \"notebook_user\",\n",
    "    \"session_id\": \"jupyter_session_123\",\n",
    "    \"environment\": \"development\"\n",
    "}\n",
    "\n",
    "response = await echo_agent.process_message(\n",
    "    \"This message includes context!\", \n",
    "    context=context\n",
    ")\n",
    "print(f\"Response with context: {response}\")"
   ]
  },
  {
   "cell_type": "code",
   "execution_count": null,
   "metadata": {},
   "outputs": [],
   "source": [
    "# Health check\n",
    "health = await echo_agent.health_check()\n",
    "print(f\"Health status: {health}\")"
   ]
  },
  {
   "cell_type": "markdown",
   "metadata": {},
   "source": [
    "## Vertex AI Agent Example"
   ]
  },
  {
   "cell_type": "code",
   "execution_count": null,
   "metadata": {},
   "outputs": [],
   "source": [
    "# Test Vertex AI Agent (requires proper Google Cloud setup)\n",
    "try:\n",
    "    vertex_agent = VertexAIAgent(\n",
    "        name=\"NotebookVertex\", \n",
    "        description=\"Vertex AI agent for notebook demo\",\n",
    "        model_name=\"text-bison\"\n",
    "    )\n",
    "    \n",
    "    await vertex_agent.initialize()\n",
    "    print(\"🧠 Vertex AI Agent initialized successfully\")\n",
    "    \n",
    "except Exception as e:\n",
    "    print(f\"⚠️ Vertex AI Agent initialization failed: {e}\")\n",
    "    print(\"💡 This is expected if Google Cloud is not configured\")\n",
    "    vertex_agent = None"
   ]
  },
  {
   "cell_type": "code",
   "execution_count": null,
   "metadata": {},
   "outputs": [],
   "source": [
    "# Test Vertex AI if available\n",
    "if vertex_agent:\n",
    "    try:\n",
    "        prompt = \"Write a short, creative story about a robot learning to paint.\"\n",
    "        response = await vertex_agent.process_message(prompt)\n",
    "        print(f\"Vertex AI Response: {response}\")\n",
    "    except Exception as e:\n",
    "        print(f\"Error calling Vertex AI: {e}\")\n",
    "else:\n",
    "    print(\"Vertex AI agent not available - skipping test\")"
   ]
  },
  {
   "cell_type": "markdown",
   "metadata": {},
   "source": [
    "## Interactive Agent Testing"
   ]
  },
  {
   "cell_type": "code",
   "execution_count": null,
   "metadata": {},
   "outputs": [],
   "source": [
    "# Interactive cell for testing agents\n",
    "async def test_agent_interactive(agent, message):\n",
    "    \"\"\"Helper function to test agents interactively\"\"\"\n",
    "    try:\n",
    "        response = await agent.process_message(message)\n",
    "        print(f\"Agent: {agent.name}\")\n",
    "        print(f\"Input: {message}\")\n",
    "        print(f\"Output: {response}\")\n",
    "        print(\"-\" * 50)\n",
    "    except Exception as e:\n",
    "        print(f\"Error: {e}\")\n",
    "\n",
    "# Test different messages\n",
    "test_messages = [\n",
    "    \"What is artificial intelligence?\",\n",
    "    \"Tell me a joke\",\n",
    "    \"Explain quantum computing in simple terms\"\n",
    "]\n",
    "\n",
    "print(\"🧪 Testing agents with sample messages:\\n\")\n",
    "\n",
    "for message in test_messages:\n",
    "    await test_agent_interactive(echo_agent, message)\n",
    "    \n",
    "    if vertex_agent:\n",
    "        await test_agent_interactive(vertex_agent, message)"
   ]
  },
  {
   "cell_type": "markdown",
   "metadata": {},
   "source": [
    "## Custom Agent Development"
   ]
  },
  {
   "cell_type": "code",
   "execution_count": null,
   "metadata": {},
   "outputs": [],
   "source": [
    "# Example of creating a custom agent\n",
    "from adk.agents import BaseAgent\n",
    "import random\n",
    "\n",
    "class RandomResponseAgent(BaseAgent):\n",
    "    \"\"\"Agent that returns random responses from a predefined list\"\"\"\n",
    "    \n",
    "    def __init__(self, **kwargs):\n",
    "        super().__init__(**kwargs)\n",
    "        self.responses = [\n",
    "            \"That's an interesting question!\",\n",
    "            \"Let me think about that...\",\n",
    "            \"Great point! Here's what I think:\",\n",
    "            \"I see what you mean.\",\n",
    "            \"That reminds me of something...\"\n",
    "        ]\n",
    "    \n",
    "    async def initialize(self):\n",
    "        self.logger.info(\"Random response agent initialized\")\n",
    "    \n",
    "    async def process_message(self, message, context=None):\n",
    "        random_response = random.choice(self.responses)\n",
    "        return f\"{random_response} You said: '{message}'\"\n",
    "\n",
    "# Test custom agent\n",
    "custom_agent = RandomResponseAgent(name=\"CustomRandom\", description=\"Random response generator\")\n",
    "await custom_agent.initialize()\n",
    "\n",
    "print(\"🎲 Testing custom agent:\")\n",
    "for i in range(3):\n",
    "    response = await custom_agent.process_message(f\"Test message {i+1}\")\n",
    "    print(f\"  Response {i+1}: {response}\")"
   ]
  },
  {
   "cell_type": "markdown",
   "metadata": {},
   "source": [
    "## Next Steps\n",
    "\n",
    "1. **Configure Google Cloud**: Set up your `.env` file with proper credentials\n",
    "2. **Explore Examples**: Check the `examples/` directory for more advanced usage\n",
    "3. **Build Custom Agents**: Create your own agents by extending `BaseAgent`\n",
    "4. **API Server**: Run the FastAPI server for web-based interactions\n",
    "5. **Production Deploy**: Scale your agents for production use\n",
    "\n",
    "### Useful Commands\n",
    "```bash\n",
    "# Run basic example\n",
    "python examples/basic_agent_example.py\n",
    "\n",
    "# Start API server\n",
    "python examples/server.py\n",
    "\n",
    "# Run tests\n",
    "pytest tests/\n",
    "```"
   ]
  }
 ],
 "metadata": {
  "kernelspec": {
   "display_name": "Python 3",
   "language": "python",
   "name": "python3"
  },
  "language_info": {
   "codemirror_mode": {
    "name": "ipython",
    "version": 3
   },
   "file_extension": ".py",
   "mimetype": "text/x-python",
   "name": "python",
   "nbconvert_exporter": "python",
   "pygments_lexer": "ipython3",
   "version": "3.8.0"
  }
 },
 "nbformat": 4,
 "nbformat_minor": 4
}